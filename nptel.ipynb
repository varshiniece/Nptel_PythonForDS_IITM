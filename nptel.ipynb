{
 "cells": [
  {
   "cell_type": "code",
   "execution_count": 1,
   "id": "bd036950",
   "metadata": {},
   "outputs": [],
   "source": [
    "X=300 \n",
    "Y= 17\n",
    "X%=Y"
   ]
  },
  {
   "cell_type": "code",
   "execution_count": 2,
   "id": "962f87de",
   "metadata": {},
   "outputs": [
    {
     "name": "stdout",
     "output_type": "stream",
     "text": [
      "11\n"
     ]
    }
   ],
   "source": [
    "print(X)"
   ]
  },
  {
   "cell_type": "code",
   "execution_count": 1,
   "id": "d1e724b2",
   "metadata": {},
   "outputs": [
    {
     "name": "stdout",
     "output_type": "stream",
     "text": [
      "0.5714285714285714\n"
     ]
    }
   ],
   "source": [
    "print(4/7)"
   ]
  },
  {
   "cell_type": "code",
   "execution_count": 2,
   "id": "7307c3e3",
   "metadata": {},
   "outputs": [
    {
     "name": "stdout",
     "output_type": "stream",
     "text": [
      "0.5714285714285714\n"
     ]
    }
   ],
   "source": [
    "a=4\n",
    "b=7\n",
    "print(a/b)"
   ]
  },
  {
   "cell_type": "code",
   "execution_count": 3,
   "id": "8022714b",
   "metadata": {},
   "outputs": [
    {
     "data": {
      "text/plain": [
       "float"
      ]
     },
     "execution_count": 3,
     "metadata": {},
     "output_type": "execute_result"
    }
   ],
   "source": [
    "a= 1+4/2\n",
    "type(a)"
   ]
  },
  {
   "cell_type": "code",
   "execution_count": 4,
   "id": "3dfaadb4",
   "metadata": {},
   "outputs": [
    {
     "name": "stdout",
     "output_type": "stream",
     "text": [
      "40\n"
     ]
    }
   ],
   "source": [
    "result = 12-4* (16//2 ** 4)+32\n",
    "print(result)"
   ]
  },
  {
   "cell_type": "code",
   "execution_count": 5,
   "id": "f41a0150",
   "metadata": {},
   "outputs": [
    {
     "name": "stdout",
     "output_type": "stream",
     "text": [
      "word is trial\n"
     ]
    }
   ],
   "source": [
    "word1 = \"trial\"\n",
    "print(\"word is %s\" %word1)\n"
   ]
  },
  {
   "cell_type": "code",
   "execution_count": 6,
   "id": "3a9da51a",
   "metadata": {},
   "outputs": [
    {
     "name": "stdout",
     "output_type": "stream",
     "text": [
      "ready\\steady\n",
      "go\n"
     ]
    }
   ],
   "source": [
    "print(\"ready\\steady\\ngo\")"
   ]
  },
  {
   "cell_type": "code",
   "execution_count": 7,
   "id": "979f4cb5",
   "metadata": {},
   "outputs": [
    {
     "name": "stdout",
     "output_type": "stream",
     "text": [
      "Number is 23.000000\n"
     ]
    }
   ],
   "source": [
    "num1=23\n",
    "print(\"Number is %f\" %num1)"
   ]
  },
  {
   "cell_type": "code",
   "execution_count": 1,
   "id": "2b802081",
   "metadata": {},
   "outputs": [
    {
     "data": {
      "text/plain": [
       "['C:\\\\Users\\\\shiva\\\\anaconda3\\\\lib\\\\site-packages\\\\pandas']"
      ]
     },
     "execution_count": 1,
     "metadata": {},
     "output_type": "execute_result"
    }
   ],
   "source": [
    "import pandas\n",
    "pandas.__path__"
   ]
  },
  {
   "cell_type": "code",
   "execution_count": null,
   "id": "b170156c",
   "metadata": {},
   "outputs": [],
   "source": []
  }
 ],
 "metadata": {
  "kernelspec": {
   "display_name": "Python 3 (ipykernel)",
   "language": "python",
   "name": "python3"
  },
  "language_info": {
   "codemirror_mode": {
    "name": "ipython",
    "version": 3
   },
   "file_extension": ".py",
   "mimetype": "text/x-python",
   "name": "python",
   "nbconvert_exporter": "python",
   "pygments_lexer": "ipython3",
   "version": "3.9.12"
  }
 },
 "nbformat": 4,
 "nbformat_minor": 5
}
